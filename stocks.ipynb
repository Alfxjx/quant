{
 "cells": [
  {
   "cell_type": "code",
   "execution_count": 43,
   "metadata": {},
   "outputs": [],
   "source": [
    "import tushare as ts\n",
    "from matplotlib import pyplot as plt \n",
    "import numpy as np"
   ]
  },
  {
   "cell_type": "code",
   "execution_count": 44,
   "metadata": {},
   "outputs": [],
   "source": [
    "def getStockData(code, start):\n",
    "    return ts.get_hist_data(code,start=start);"
   ]
  },
  {
   "cell_type": "code",
   "execution_count": 53,
   "metadata": {},
   "outputs": [
    {
     "name": "stdout",
     "output_type": "stream",
     "text": [
      "本接口即将停止更新，请尽快使用Pro版接口：https://waditu.com/document/2\n"
     ]
    },
    {
     "data": {
      "text/html": [
       "<div>\n",
       "<style scoped>\n",
       "    .dataframe tbody tr th:only-of-type {\n",
       "        vertical-align: middle;\n",
       "    }\n",
       "\n",
       "    .dataframe tbody tr th {\n",
       "        vertical-align: top;\n",
       "    }\n",
       "\n",
       "    .dataframe thead th {\n",
       "        text-align: right;\n",
       "    }\n",
       "</style>\n",
       "<table border=\"1\" class=\"dataframe\">\n",
       "  <thead>\n",
       "    <tr style=\"text-align: right;\">\n",
       "      <th></th>\n",
       "      <th>open</th>\n",
       "      <th>high</th>\n",
       "      <th>close</th>\n",
       "      <th>low</th>\n",
       "      <th>volume</th>\n",
       "      <th>price_change</th>\n",
       "      <th>p_change</th>\n",
       "      <th>ma5</th>\n",
       "      <th>ma10</th>\n",
       "      <th>ma20</th>\n",
       "      <th>v_ma5</th>\n",
       "      <th>v_ma10</th>\n",
       "      <th>v_ma20</th>\n",
       "      <th>turnover</th>\n",
       "    </tr>\n",
       "    <tr>\n",
       "      <th>date</th>\n",
       "      <th></th>\n",
       "      <th></th>\n",
       "      <th></th>\n",
       "      <th></th>\n",
       "      <th></th>\n",
       "      <th></th>\n",
       "      <th></th>\n",
       "      <th></th>\n",
       "      <th></th>\n",
       "      <th></th>\n",
       "      <th></th>\n",
       "      <th></th>\n",
       "      <th></th>\n",
       "      <th></th>\n",
       "    </tr>\n",
       "  </thead>\n",
       "  <tbody>\n",
       "    <tr>\n",
       "      <th>2021-06-30</th>\n",
       "      <td>42.96</td>\n",
       "      <td>43.47</td>\n",
       "      <td>42.74</td>\n",
       "      <td>41.70</td>\n",
       "      <td>500137.56</td>\n",
       "      <td>-0.21</td>\n",
       "      <td>-0.49</td>\n",
       "      <td>43.198</td>\n",
       "      <td>42.286</td>\n",
       "      <td>40.175</td>\n",
       "      <td>655137.87</td>\n",
       "      <td>835796.75</td>\n",
       "      <td>806893.40</td>\n",
       "      <td>1.68</td>\n",
       "    </tr>\n",
       "    <tr>\n",
       "      <th>2021-06-29</th>\n",
       "      <td>43.83</td>\n",
       "      <td>44.43</td>\n",
       "      <td>42.95</td>\n",
       "      <td>42.80</td>\n",
       "      <td>596324.50</td>\n",
       "      <td>-1.09</td>\n",
       "      <td>-2.48</td>\n",
       "      <td>43.286</td>\n",
       "      <td>41.812</td>\n",
       "      <td>40.053</td>\n",
       "      <td>758537.57</td>\n",
       "      <td>878964.08</td>\n",
       "      <td>841782.34</td>\n",
       "      <td>2.00</td>\n",
       "    </tr>\n",
       "    <tr>\n",
       "      <th>2021-06-28</th>\n",
       "      <td>43.10</td>\n",
       "      <td>44.88</td>\n",
       "      <td>44.04</td>\n",
       "      <td>43.10</td>\n",
       "      <td>747842.88</td>\n",
       "      <td>0.99</td>\n",
       "      <td>2.30</td>\n",
       "      <td>43.078</td>\n",
       "      <td>41.492</td>\n",
       "      <td>39.853</td>\n",
       "      <td>788711.72</td>\n",
       "      <td>944257.94</td>\n",
       "      <td>841023.39</td>\n",
       "      <td>2.51</td>\n",
       "    </tr>\n",
       "    <tr>\n",
       "      <th>2021-06-25</th>\n",
       "      <td>43.00</td>\n",
       "      <td>43.77</td>\n",
       "      <td>43.05</td>\n",
       "      <td>42.35</td>\n",
       "      <td>663868.62</td>\n",
       "      <td>-0.16</td>\n",
       "      <td>-0.37</td>\n",
       "      <td>42.746</td>\n",
       "      <td>40.861</td>\n",
       "      <td>39.579</td>\n",
       "      <td>866087.22</td>\n",
       "      <td>926734.48</td>\n",
       "      <td>834566.93</td>\n",
       "      <td>2.23</td>\n",
       "    </tr>\n",
       "    <tr>\n",
       "      <th>2021-06-24</th>\n",
       "      <td>44.15</td>\n",
       "      <td>44.50</td>\n",
       "      <td>43.21</td>\n",
       "      <td>42.83</td>\n",
       "      <td>767515.81</td>\n",
       "      <td>0.03</td>\n",
       "      <td>0.07</td>\n",
       "      <td>42.214</td>\n",
       "      <td>40.334</td>\n",
       "      <td>39.377</td>\n",
       "      <td>1010943.20</td>\n",
       "      <td>913041.59</td>\n",
       "      <td>844221.25</td>\n",
       "      <td>2.58</td>\n",
       "    </tr>\n",
       "  </tbody>\n",
       "</table>\n",
       "</div>"
      ],
      "text/plain": [
       "             open   high  close    low     volume  price_change  p_change  \\\n",
       "date                                                                        \n",
       "2021-06-30  42.96  43.47  42.74  41.70  500137.56         -0.21     -0.49   \n",
       "2021-06-29  43.83  44.43  42.95  42.80  596324.50         -1.09     -2.48   \n",
       "2021-06-28  43.10  44.88  44.04  43.10  747842.88          0.99      2.30   \n",
       "2021-06-25  43.00  43.77  43.05  42.35  663868.62         -0.16     -0.37   \n",
       "2021-06-24  44.15  44.50  43.21  42.83  767515.81          0.03      0.07   \n",
       "\n",
       "               ma5    ma10    ma20       v_ma5     v_ma10     v_ma20  turnover  \n",
       "date                                                                            \n",
       "2021-06-30  43.198  42.286  40.175   655137.87  835796.75  806893.40      1.68  \n",
       "2021-06-29  43.286  41.812  40.053   758537.57  878964.08  841782.34      2.00  \n",
       "2021-06-28  43.078  41.492  39.853   788711.72  944257.94  841023.39      2.51  \n",
       "2021-06-25  42.746  40.861  39.579   866087.22  926734.48  834566.93      2.23  \n",
       "2021-06-24  42.214  40.334  39.377  1010943.20  913041.59  844221.25      2.58  "
      ]
     },
     "execution_count": 53,
     "metadata": {},
     "output_type": "execute_result"
    }
   ],
   "source": [
    "code = \"002241\"\n",
    "start = \"2021-03-01\"\n",
    "df = getStockData(code, start)\n",
    "df.head()"
   ]
  },
  {
   "cell_type": "code",
   "execution_count": 61,
   "metadata": {},
   "outputs": [],
   "source": [
    "def pltStock(code,start,col):\n",
    "    df = ts.get_hist_data(code,start=start);\n",
    "    df = df.iloc[::-1]\n",
    "    x = np.arange(1, df.shape[0]+1);\n",
    "    \n",
    "    fig, ax = plt.subplots()  # Create a figure and an axes.\n",
    "    ax.bar(x, df[col[0]], label='turnover') \n",
    "    ax.plot(x, df[col[1]], label='ma5',linestyle='--') \n",
    "    ax.bar(x, df[col[2]], label='p_change') \n",
    "    ax.plot(x, df[col[3]], label='close')\n",
    "    ax.set_xlabel('date')  # Add an x-label to the axes.\n",
    "    ax.set_ylabel('price')  # Add a y-label to the axes.\n",
    "    ax.set_title(code+\" \"+start)  # Add a title to the axes.\n",
    "    ax.legend()  # Add a legend.\n"
   ]
  },
  {
   "cell_type": "code",
   "execution_count": 62,
   "metadata": {},
   "outputs": [
    {
     "name": "stdout",
     "output_type": "stream",
     "text": [
      "本接口即将停止更新，请尽快使用Pro版接口：https://waditu.com/document/2\n"
     ]
    },
    {
     "data": {
      "image/png": "[encoded data removed]",
      "text/plain": [
       "<Figure size 432x288 with 1 Axes>"
      ]
     },
     "metadata": {
      "needs_background": "light"
     },
     "output_type": "display_data"
    }
   ],
   "source": [
    "# 歌尔\n",
    "pltStock(\"002241\", \"2021-03-01\", ['turnover','ma5','p_change','close'])"
   ]
  },
  {
   "cell_type": "code",
   "execution_count": 63,
   "metadata": {},
   "outputs": [
    {
     "name": "stdout",
     "output_type": "stream",
     "text": [
      "本接口即将停止更新，请尽快使用Pro版接口：https://waditu.com/document/2\n"
     ]
    },
    {
     "data": {
      "image/png": "[encoded data removed]",
      "text/plain": [
       "<Figure size 432x288 with 1 Axes>"
      ]
     },
     "metadata": {
      "needs_background": "light"
     },
     "output_type": "display_data"
    }
   ],
   "source": [
    "# 沙钢\n",
    "pltStock(\"002075\", \"2021-03-01\", ['turnover','ma5','p_change','close'])"
   ]
  },
  {
   "cell_type": "code",
   "execution_count": null,
   "metadata": {},
   "outputs": [],
   "source": []
  }
 ],
 "metadata": {
  "kernelspec": {
   "display_name": "Python 3",
   "language": "python",
   "name": "python3"
  },
  "language_info": {
   "codemirror_mode": {
    "name": "ipython",
    "version": 3
   },
   "file_extension": ".py",
   "mimetype": "text/x-python",
   "name": "python",
   "nbconvert_exporter": "python",
   "pygments_lexer": "ipython3",
   "version": "3.8.5"
  }
 },
 "nbformat": 4,
 "nbformat_minor": 4
}
